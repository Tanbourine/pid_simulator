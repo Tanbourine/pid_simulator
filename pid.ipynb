{
 "cells": [
  {
   "cell_type": "code",
   "execution_count": null,
   "metadata": {},
   "outputs": [],
   "source": [
    "\n",
    "class Generator():\n",
    "    def generate(length: int):\n",
    "        pass\n",
    "\n",
    "\n",
    "class StepGenerator(Generator):\n",
    "    def __init__(self, amplitude: float):\n",
    "        self.amplitude = amplitude\n",
    "\n",
    "    def generate(self, length: int) -> List[float]:\n",
    "        output = [0.0]\n",
    "        for _ in range(1, length):\n",
    "            output.append(self.amplitude)"
   ]
  },
  {
   "cell_type": "code",
   "execution_count": null,
   "metadata": {},
   "outputs": [],
   "source": [
    "generator = StepGenerator(1.0)\n",
    "output = generator.generate(5)\n",
    "print(output)"
   ]
  },
  {
   "cell_type": "code",
   "execution_count": null,
   "metadata": {},
   "outputs": [
    {
     "ename": "",
     "evalue": "",
     "output_type": "error",
     "traceback": [
      "\u001b[1;31mThe kernel failed to start as 'TypeAliasType' could not be imported from 'C:\\Users\\dyzta\\AppData\\Roaming\\Python\\Python310\\site-packages\\typing_extensions.py'.\n",
      "\u001b[1;31mClick <a href='https://aka.ms/kernelFailuresModuleImportErrFromFile'>here</a> for more info."
     ]
    }
   ],
   "source": [
    "# Step or Sine Function Generator"
   ]
  }
 ],
 "metadata": {
  "kernelspec": {
   "display_name": "Python 3",
   "language": "python",
   "name": "python3"
  },
  "language_info": {
   "name": "python",
   "version": "3.10.7"
  }
 },
 "nbformat": 4,
 "nbformat_minor": 2
}
